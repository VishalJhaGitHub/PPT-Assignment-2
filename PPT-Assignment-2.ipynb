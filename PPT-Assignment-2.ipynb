{
 "cells": [
  {
   "cell_type": "code",
   "execution_count": 1,
   "id": "0e4850df-a85d-4df6-898c-855b76f103ae",
   "metadata": {},
   "outputs": [
    {
     "name": "stdout",
     "output_type": "stream",
     "text": [
      "4\n"
     ]
    }
   ],
   "source": [
    "#1. Given an integer array nums of 2n integers, group these integers into n pairs (a1, b1), (a2, b2),..., (an, bn) such that the sum of min(ai, bi) for all i is maximized. Return the maximized sum.\n",
    "\n",
    "#**Example 1:**\n",
    "#Input: nums = [1,4,3,2]\n",
    "#Output: 4\n",
    "\n",
    "#**Explanation:** All possible pairings (ignoring the ordering of elements) are:\n",
    "\n",
    "#1. (1, 4), (2, 3) -> min(1, 4) + min(2, 3) = 1 + 2 = 3\n",
    "#2. (1, 3), (2, 4) -> min(1, 3) + min(2, 4) = 1 + 2 = 3\n",
    "#3. (1, 2), (3, 4) -> min(1, 2) + min(3, 4) = 1 + 3 = 4\n",
    "#So the maximum possible sum is 4\n",
    "\n",
    "#Ans\n",
    "\n",
    "def arrayPairSum(nums):\n",
    "    nums.sort()\n",
    "    max_sum = 0\n",
    "    for i in range(0, len(nums), 2):\n",
    "        max_sum += min(nums[i], nums[i+1])\n",
    "    return max_sum\n",
    "\n",
    "# Test the function with the provided example\n",
    "nums = [1, 4, 3, 2]\n",
    "print(arrayPairSum(nums))"
   ]
  },
  {
   "cell_type": "code",
   "execution_count": 2,
   "id": "0328420d-4521-4cc3-8707-4702f1c864c1",
   "metadata": {},
   "outputs": [
    {
     "name": "stdout",
     "output_type": "stream",
     "text": [
      "3\n"
     ]
    }
   ],
   "source": [
    "#2. Alice has n candies, where the ith candy is of type candyType[i]. Alice noticed that she started to gain weight, so she visited a doctor. \n",
    "\n",
    "#The doctor advised Alice to only eat n / 2 of the candies she has (n is always even). Alice likes her candies very much, and she wants to eat the maximum number of different types of candies while still following the doctor's advice. \n",
    "\n",
    "#Given the integer array candyType of length n, return the maximum number of different types of candies she can eat if she only eats n / 2 of them.\n",
    "\n",
    "#Example 1:\n",
    "#Input: candyType = [1,1,2,2,3,3]\n",
    "#Output: 3\n",
    "\n",
    "#Explanation: Alice can only eat 6 / 2 = 3 candies. Since there are only 3 types, she can eat one of each type.\n",
    "\n",
    "#Ans\n",
    "\n",
    "def distributeCandies(candyType):\n",
    "    unique_candies = set()\n",
    "    for candy in candyType:\n",
    "        unique_candies.add(candy)\n",
    "        if len(unique_candies) == len(candyType) // 2:\n",
    "            break\n",
    "    return min(len(unique_candies), len(candyType) // 2)\n",
    "\n",
    "# Test the function with the provided example\n",
    "candyType = [1, 1, 2, 2, 3, 3]\n",
    "print(distributeCandies(candyType))"
   ]
  },
  {
   "cell_type": "code",
   "execution_count": 8,
   "id": "a1d68934-31a8-4504-acc3-d4dd9edf621b",
   "metadata": {},
   "outputs": [
    {
     "name": "stdout",
     "output_type": "stream",
     "text": [
      "5\n"
     ]
    }
   ],
   "source": [
    "#3. We define a harmonious array as an array where the difference between its maximum value and its minimum value is exactly 1.\n",
    "\n",
    "#Given an integer array nums, return the length of its longest harmonious subsequence among all its possible subsequences.\n",
    "\n",
    "#A subsequence of an array is a sequence that can be derived from the array by deleting some or no elements without changing the order of the remaining elements.\n",
    "\n",
    "#Example 1:\n",
    "#Input: nums = [1,3,2,2,5,2,3,7]\n",
    "#Output: 5\n",
    "\n",
    "#Explanation: The longest harmonious subsequence is [3,2,2,2,3].\n",
    "\n",
    "#Ans\n",
    "\n",
    "def findLHS(nums):\n",
    "    numFreq = {}\n",
    "    for num in nums:\n",
    "        if num in numFreq:\n",
    "            numFreq[num] += 1\n",
    "        else:\n",
    "            numFreq[num] = 1\n",
    "\n",
    "    maxLen = 0\n",
    "    for num in numFreq:\n",
    "        if num + 1 in numFreq:\n",
    "            maxLen = max(maxLen, numFreq[num] + numFreq[num + 1])\n",
    "\n",
    "    return maxLen\n",
    "\n",
    "# Test the function with the provided example\n",
    "nums = [1, 3, 2, 2, 5, 2, 3, 7]\n",
    "print(findLHS(nums))"
   ]
  },
  {
   "cell_type": "code",
   "execution_count": 4,
   "id": "001ce09b-77d3-40d0-8ba7-198c2d917d50",
   "metadata": {},
   "outputs": [
    {
     "name": "stdout",
     "output_type": "stream",
     "text": [
      "True\n"
     ]
    }
   ],
   "source": [
    "#4. You have a long flowerbed in which some of the plots are planted, and some are not. However, flowers cannot be planted in adjacent plots.\n",
    "\n",
    "#Given an integer array flowerbed containing 0's and 1's, where 0 means empty and 1 means not empty, and an integer n, return true if n new flowers can be planted in the flowerbed without violating the no-adjacent-flowers rule and false otherwise.\n",
    "\n",
    "#Example 1:\n",
    "#Input: flowerbed = [1,0,0,0,1], n = 1\n",
    "#Output: true\n",
    "\n",
    "#Ans\n",
    "\n",
    "def canPlaceFlowers(flowerbed, n):\n",
    "    count = 0\n",
    "    for i in range(len(flowerbed)):\n",
    "        if flowerbed[i] == 0 and (i == 0 or flowerbed[i-1] == 0) and (i == len(flowerbed)-1 or flowerbed[i+1] == 0):\n",
    "            flowerbed[i] = 1\n",
    "            count += 1\n",
    "            n -= 1\n",
    "            if n == 0:\n",
    "                break\n",
    "    return n == 0\n",
    "\n",
    "# Test the function with the provided example\n",
    "flowerbed = [1, 0, 0, 0, 1]\n",
    "n = 1\n",
    "print(canPlaceFlowers(flowerbed, n))"
   ]
  },
  {
   "cell_type": "code",
   "execution_count": 5,
   "id": "fa8217a0-e4a3-42ba-90bb-7d3bbca7e8fe",
   "metadata": {},
   "outputs": [
    {
     "name": "stdout",
     "output_type": "stream",
     "text": [
      "6\n"
     ]
    }
   ],
   "source": [
    "#5. Given an integer array nums, find three numbers whose product is maximum and return the maximum product.\n",
    "\n",
    "#Example 1:\n",
    "#Input: nums = [1,2,3]\n",
    "#Output: 6\n",
    "\n",
    "#Ans\n",
    "\n",
    "def maximumProduct(nums):\n",
    "    nums.sort()\n",
    "    max_product = nums[-1] * nums[-2] * nums[-3]\n",
    "    neg_product = nums[0] * nums[1] * nums[-1]\n",
    "    return max(max_product, neg_product)\n",
    "\n",
    "# Test the function with the provided example\n",
    "nums = [1, 2, 3]\n",
    "print(maximumProduct(nums))"
   ]
  },
  {
   "cell_type": "code",
   "execution_count": 7,
   "id": "163ef498-67de-4093-95ba-47a10df9179c",
   "metadata": {},
   "outputs": [
    {
     "name": "stdout",
     "output_type": "stream",
     "text": [
      "4\n"
     ]
    }
   ],
   "source": [
    "#6. Given an array of integers nums which is sorted in ascending order, and an integer target, write a function to search target in nums. If target exists, then return its index. Otherwise, return -1.\n",
    "\n",
    "#You must write an algorithm with O(log n) runtime complexity.\n",
    "\n",
    "#Input: nums = [-1,0,3,5,9,12], target = 9\n",
    "#Output: 4\n",
    "\n",
    "#Explanation: 9 exists in nums and its index is 4\n",
    "\n",
    "#Ans\n",
    "\n",
    "def search(nums, target):\n",
    "    left = 0\n",
    "    right = len(nums) - 1\n",
    "\n",
    "    while left <= right:\n",
    "        mid = (left + right) // 2\n",
    "        if nums[mid] == target:\n",
    "            return mid\n",
    "        elif nums[mid] > target:\n",
    "            right = mid - 1\n",
    "        else:\n",
    "            left = mid + 1    \n",
    "    return -1\n",
    "\n",
    "# Test the function with the provided example\n",
    "nums = [-1, 0, 3, 5, 9, 12]\n",
    "target = 9\n",
    "print(search(nums, target))"
   ]
  },
  {
   "cell_type": "code",
   "execution_count": 9,
   "id": "024b1bca-979c-4760-afcf-333eb6e313ca",
   "metadata": {},
   "outputs": [
    {
     "name": "stdout",
     "output_type": "stream",
     "text": [
      "True\n"
     ]
    }
   ],
   "source": [
    "#7. An array is monotonic if it is either monotone increasing or monotone decreasing.\n",
    "\n",
    "#An array nums is monotone increasing if for all i <= j, nums[i] <= nums[j]. An array nums is monotone decreasing if for all i <= j, nums[i] >= nums[j].\n",
    "\n",
    "#Given an integer array nums, return true if the given array is monotonic, or false otherwise.\n",
    "\n",
    "#Example 1:\n",
    "#Input: nums = [1,2,2,3]\n",
    "#Output: true\n",
    "\n",
    "#Ans\n",
    "\n",
    "def isMonotonic(nums):\n",
    "    increasing = True\n",
    "    decreasing = True\n",
    "\n",
    "    for i in range(1, len(nums)):\n",
    "        if nums[i] > nums[i - 1]:\n",
    "            decreasing = False\n",
    "        elif nums[i] < nums[i - 1]:\n",
    "            increasing = False\n",
    "\n",
    "    return increasing or decreasing\n",
    "\n",
    "# Test the function with the provided example\n",
    "nums = [1, 2, 2, 3]\n",
    "print(isMonotonic(nums))"
   ]
  },
  {
   "cell_type": "code",
   "execution_count": 10,
   "id": "9e2196bd-123e-49c9-a276-cd6b85aeca5a",
   "metadata": {},
   "outputs": [
    {
     "name": "stdout",
     "output_type": "stream",
     "text": [
      "0\n"
     ]
    }
   ],
   "source": [
    "#8. You are given an integer array nums and an integer k.\n",
    "\n",
    "#In one operation, you can choose any index i where 0 <= i < nums.length and change nums[i] to nums[i] + x where x is an integer from the range [-k, k]. You can apply this operation at most once for each index i.\n",
    "\n",
    "#The score of nums is the difference between the maximum and minimum elements in nums.\n",
    "\n",
    "#Return the minimum score of nums after applying the mentioned operation at most once for each index in it.\n",
    "\n",
    "#Example 1:\n",
    "#Input: nums = [1], k = 0\n",
    "#Output: 0\n",
    "\n",
    "#Explanation: The score is max(nums) - min(nums) = 1 - 1 = 0.\n",
    "\n",
    "#Ans\n",
    "\n",
    "def minimumScore(nums, k):\n",
    "    min_num = float('inf')\n",
    "    max_num = float('-inf')\n",
    "\n",
    "    for num in nums:\n",
    "        min_num = min(min_num, num)\n",
    "        max_num = max(max_num, num)\n",
    "\n",
    "    if max_num - min_num <= 2 * k:\n",
    "        return 0\n",
    "\n",
    "    return (min_num + max_num) // 2\n",
    "\n",
    "# Test the function with the provided example\n",
    "nums = [1]\n",
    "k = 0\n",
    "print(minimumScore(nums, k))"
   ]
  },
  {
   "cell_type": "code",
   "execution_count": null,
   "id": "2715e13b-eae2-4e50-a151-3092e4cd2bd2",
   "metadata": {},
   "outputs": [],
   "source": []
  }
 ],
 "metadata": {
  "kernelspec": {
   "display_name": "Python 3 (ipykernel)",
   "language": "python",
   "name": "python3"
  },
  "language_info": {
   "codemirror_mode": {
    "name": "ipython",
    "version": 3
   },
   "file_extension": ".py",
   "mimetype": "text/x-python",
   "name": "python",
   "nbconvert_exporter": "python",
   "pygments_lexer": "ipython3",
   "version": "3.10.9"
  }
 },
 "nbformat": 4,
 "nbformat_minor": 5
}
